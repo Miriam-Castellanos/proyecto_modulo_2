{
 "cells": [
  {
   "cell_type": "markdown",
   "metadata": {},
   "source": [
    "## *1.1 Imagenes y Figuras Fractales Aleatorias 3D*\n",
    "\n",
    "> A partir de la teoria del algoritmo llamado diamante cuadrado por el cual buscamos generar un paisaje que asemeje un terreno tridimensional de acuerdo al concepto de valores aleatorios a partir de fractales tipo plasma. El concepto de variable aletoria funciona como una semilla que determina la distribución de la formación. Los datos de la semilla se agrupan en una matriz, y utilizando la teoría del algorimo diamante cuadrado se van determinando las locaciones de cada punto, ya sea de los pixeles o puntos de la montaña.\n"
   ]
  },
  {
   "cell_type": "markdown",
   "metadata": {},
   "source": [
    "\n",
    "## *1.2 Objetivos*\n",
    "\n",
    "> #### 1.2.1 Objetivo General\n",
    ">  - Conocer cómo se crean los paisajes y figuras en 3D mediante el uso de fractales aleatorios.\n",
    "\n",
    "> #### 1.2.2 Objetivos específicos\n",
    ">  - Aprender de la utilidad del algoritmo diamante-cuadrado.\n",
    ">  - Generar fractales con las variables aleatorias.\n",
    ">  - Conocer el modelo matemático de Michael Barnsley y aplicarlo para un fractal en 3 dimensiones.\n",
    ">  - Graficar los fractales en 3 dimensiones generando el paisaje aleatorio y figuras.\n",
    " "
   ]
  },
  {
   "cell_type": "markdown",
   "metadata": {},
   "source": [
    "## *1.3 Modelo que representa el problema*\n",
    "### Algoritmo diamante\n",
    ">La teoría del algoritmo diamante-cuadrado define que se tiene que comenzar con una matriz cuadrada con dimensiones  $2^n +1$, donde la n representa las iteraciones y el +1 nos ayuda a que siempre haya un centro definiendo lados impares. \n",
    "\n",
    ">La siguiente imagen representa el comportamiento a seguir del algoritmo, en este caso 2 iteraciones, lo que genera una matriz de 5x5.\n",
    "\n",
    "<img style=\"float: center; \" src=\"https://upload.wikimedia.org/wikipedia/commons/thumb/b/bf/Diamond_Square.svg/1200px-Diamond_Square.svg.png\" width=\"900px\" height=\"300px\" />\n",
    "\n",
    "\n",
    "> Como podemos observar en la primera imagen, inicialmente tenemos cuatro esquinas asignadas con valores aleatorios. Utilizando el promedio de las 4 esquinas se genera el centro, a esto se le denomina etapa diamante. Los puntos que quedan en horizontal y vertical a ese centro son generados con el promedio de sus 3 vecinos inmediatos, este paso es lo que se conoce como etapa cuadrado. Este proceso se repite hasta que todas las casillas quedan ocupadas, donde el número de veces que se repite este proceso, son las iteraciones definidas, en el caso de este ejemplo 2 veces. \n",
    "\n",
    "**Limitaciones del algoritmo: A partir de n>8 existen limitaciones de Hardware para ejecutarse.**\n",
    "\n",
    "### Fractal Fern 3D\n",
    "![](Fern.png)\n",
    "\n",
    "> Es un fractal descrito por un matemático inglés llamado Michael Barnsley, él desarrolló el código de Fern, lo que es un ejemplo de una IFS (Iterated Function System) para la creación de un fractal.​\n",
    "\n",
    ">En el modelo de Fern, se tiene una matriz definida de 4x12; y como estamos graficando en 3 dimensiones, se tienen los variables x, y y z."
   ]
  },
  {
   "cell_type": "markdown",
   "metadata": {},
   "source": [
    "## *1.4 Solución*\n",
    "### Algoritmo diamante - Fractal plasma\n",
    "A partir del algoritmo diamante cuadrado haremos un paisaje:"
   ]
  },
  {
   "cell_type": "code",
   "execution_count": 1,
   "metadata": {},
   "outputs": [],
   "source": [
    "import pandas as pd\n",
    "import numpy as np\n",
    "import matplotlib.pyplot as plt\n",
    "from matplotlib import cm\n",
    "from mpl_toolkits.mplot3d import Axes3D\n",
    "import random\n",
    "import time\n",
    "import ipywidgets as widgets\n",
    "from ipywidgets import interact, interactive, fixed, interact_manual\n",
    "%matplotlib inline"
   ]
  },
  {
   "cell_type": "code",
   "execution_count": 2,
   "metadata": {},
   "outputs": [],
   "source": [
    "def Diamond_square(n):\n",
    "    \n",
    "    N = 2**n + 1\n",
    "    # f escala los valores aleatorios\n",
    "    f = 100.0\n",
    "\n",
    "    arr = np.zeros((N, N)) # Inicia la matriz con 0 en todo su cuerpo\n",
    "    arr[0::N-1,0::N-1] = np.random.uniform(-1, 1, (2,2))*f # Asigna valores aleatorios a las esquinas\n",
    "    side = N-1  #Define la magnitud de los lados de esa capa\n",
    "\n",
    "    k = 1 #Variable auxiliar\n",
    "\n",
    "    while side > 1:\n",
    "        sideo2 = side // 2 #Divide la magnitud lateral ignorando residuos\n",
    "\n",
    "        # Diamond step, por cada cuadrado en el arreglo define el punto medio con el promedio de las esquinas \n",
    "        for ix in range(k):\n",
    "            for iy in range(k):\n",
    "                x0, x1, y0, y1 = ix*side, (ix+1)*side, iy*side, (iy+1)*side #Define los bordes del cuadrante\n",
    "           \n",
    "            #Define las coordenadas del centro en el arreglo\n",
    "                xc = x0 + sideo2  \n",
    "                yc = y0 + sideo2\n",
    "            \n",
    "        #Coloca el pixel en el promedio de sus \"vecinos\" del diamante, mas un desplazamiento aleatorio.\n",
    "                arr[yc,xc] = (arr[y0,x0] + arr[y0,x1] + arr[y1,x0] + arr[y1,x1])/4\n",
    "                arr[yc,xc] += f * np.random.uniform(-1,1)\n",
    "\n",
    "    # Square step, por cada diamante en el arreglo define el punto medio con el promedio de las esquinas \n",
    "        for iy in range(2*k+1):\n",
    "            yc = sideo2 * iy\n",
    "            for ix in range(k+1):\n",
    "                xc = side * ix + sideo2 * (1 - iy % 2)\n",
    "                if not (0 <= xc < N and 0 <= yc < N):\n",
    "                    continue\n",
    "                tot, ntot = 0., 0\n",
    "            #Coloca el pixel en el promedio de sus \"vecinos\" del cuadrado, mas un desplazamiento aleatorio.\n",
    "            #En los bordes solo tiene 3 vecinos\n",
    "                for (dx, dy) in ((-1,0), (1,0), (0,-1), (0,1)):\n",
    "                    xs, ys = xc + dx*sideo2, yc + dy*sideo2\n",
    "                    if not (0 <= xs < N and 0 <= ys < N):\n",
    "                        continue\n",
    "                    else:\n",
    "                        tot += arr[ys, xs]\n",
    "                        ntot += 1\n",
    "                arr[yc, xc] += tot / ntot + f * np.random.uniform(-1,1)\n",
    "        side = sideo2\n",
    "        k *= 2 #Sirve para nuestra función 2**n + 1\n",
    "        f/= 2  #Reduce el factor de escala entre cada nivel, produce una forma más \"Estética en las alturas\"\n",
    "        \n",
    "    def f_plotting(arr1, N, plot_type):\n",
    "        \n",
    "        if plot_type == 3:\n",
    "            x_index = [i for i in range(0, N)]\n",
    "            y_index = [i for i in range(0, N)]\n",
    "            x_vals, y_vals = np.meshgrid(x_index, y_index)\n",
    "            fig = plt.figure(figsize=(16,8))\n",
    "            p2 = fig.add_subplot(111, projection=\"3d\")\n",
    "            p2.set_title(\"Diamond-Square 3D - n = %s\"%n,fontsize=20)\n",
    "            p2.set_aspect(\"equal\")\n",
    "            p2.set_xlabel('X')\n",
    "            p2.set_ylabel('Y')\n",
    "            p2.set_zlabel('Z')\n",
    "            p2.plot_surface(x_vals,y_vals, arr1, rstride=1, cstride=1,cmap=plt.cm.Pastel1)\n",
    "            plt.show()\n",
    "        else:\n",
    "            fig = plt.figure(figsize=(16,8))\n",
    "            p3 = fig.add_subplot(111)\n",
    "            p3.set_title(\"Fractal plasma - n = %s\"%n,fontsize =20)\n",
    "            p3.set_aspect(\"equal\")\n",
    "            plt.xlabel('$x$',fontsize=16)\n",
    "            plt.ylabel('$y$',fontsize=16)\n",
    "            plt.imshow(arr1, origin=\"lower\", cmap=plt.cm.Greens)\n",
    "            plt.show()\n",
    "            \n",
    "    \n",
    "    plot_type = 2\n",
    "    f_plotting(arr, N, plot_type)\n",
    "    plot_type = 3\n",
    "    f_plotting(arr, N, plot_type)"
   ]
  },
  {
   "cell_type": "markdown",
   "metadata": {},
   "source": [
    "### Fractal Fern 3D"
   ]
  },
  {
   "cell_type": "code",
   "execution_count": 3,
   "metadata": {},
   "outputs": [
    {
     "data": {
      "text/html": [
       "<div>\n",
       "<style scoped>\n",
       "    .dataframe tbody tr th:only-of-type {\n",
       "        vertical-align: middle;\n",
       "    }\n",
       "\n",
       "    .dataframe tbody tr th {\n",
       "        vertical-align: top;\n",
       "    }\n",
       "\n",
       "    .dataframe thead th {\n",
       "        text-align: right;\n",
       "    }\n",
       "</style>\n",
       "<table border=\"1\" class=\"dataframe\">\n",
       "  <thead>\n",
       "    <tr style=\"text-align: right;\">\n",
       "      <th></th>\n",
       "      <th>ai</th>\n",
       "      <th>bi</th>\n",
       "      <th>ci</th>\n",
       "      <th>di</th>\n",
       "      <th>ei</th>\n",
       "      <th>fi</th>\n",
       "      <th>gi</th>\n",
       "      <th>hi</th>\n",
       "      <th>mi</th>\n",
       "      <th>ji</th>\n",
       "      <th>li</th>\n",
       "      <th>ni</th>\n",
       "      <th>pi</th>\n",
       "    </tr>\n",
       "    <tr>\n",
       "      <th>$i$</th>\n",
       "      <th></th>\n",
       "      <th></th>\n",
       "      <th></th>\n",
       "      <th></th>\n",
       "      <th></th>\n",
       "      <th></th>\n",
       "      <th></th>\n",
       "      <th></th>\n",
       "      <th></th>\n",
       "      <th></th>\n",
       "      <th></th>\n",
       "      <th></th>\n",
       "      <th></th>\n",
       "    </tr>\n",
       "  </thead>\n",
       "  <tbody>\n",
       "    <tr>\n",
       "      <th>1</th>\n",
       "      <td>0.00</td>\n",
       "      <td>0.0000</td>\n",
       "      <td>0</td>\n",
       "      <td>0.0000</td>\n",
       "      <td>0.18</td>\n",
       "      <td>0.00000</td>\n",
       "      <td>0</td>\n",
       "      <td>0.0000</td>\n",
       "      <td>0.00</td>\n",
       "      <td>0</td>\n",
       "      <td>0.00</td>\n",
       "      <td>0</td>\n",
       "      <td>0.25</td>\n",
       "    </tr>\n",
       "    <tr>\n",
       "      <th>2</th>\n",
       "      <td>0.85</td>\n",
       "      <td>0.0000</td>\n",
       "      <td>0</td>\n",
       "      <td>0.0000</td>\n",
       "      <td>0.85</td>\n",
       "      <td>0.01027</td>\n",
       "      <td>0</td>\n",
       "      <td>-0.1403</td>\n",
       "      <td>0.85</td>\n",
       "      <td>0</td>\n",
       "      <td>1.76</td>\n",
       "      <td>0</td>\n",
       "      <td>0.25</td>\n",
       "    </tr>\n",
       "    <tr>\n",
       "      <th>3</th>\n",
       "      <td>0.20</td>\n",
       "      <td>-0.3357</td>\n",
       "      <td>0</td>\n",
       "      <td>0.1192</td>\n",
       "      <td>0.20</td>\n",
       "      <td>0.00000</td>\n",
       "      <td>0</td>\n",
       "      <td>0.0000</td>\n",
       "      <td>0.30</td>\n",
       "      <td>0</td>\n",
       "      <td>0.88</td>\n",
       "      <td>0</td>\n",
       "      <td>0.25</td>\n",
       "    </tr>\n",
       "    <tr>\n",
       "      <th>4</th>\n",
       "      <td>-0.20</td>\n",
       "      <td>0.3357</td>\n",
       "      <td>0</td>\n",
       "      <td>0.1192</td>\n",
       "      <td>0.20</td>\n",
       "      <td>0.30000</td>\n",
       "      <td>0</td>\n",
       "      <td>0.0000</td>\n",
       "      <td>0.30</td>\n",
       "      <td>0</td>\n",
       "      <td>0.88</td>\n",
       "      <td>0</td>\n",
       "      <td>0.25</td>\n",
       "    </tr>\n",
       "  </tbody>\n",
       "</table>\n",
       "</div>"
      ],
      "text/plain": [
       "       ai      bi  ci      di    ei       fi  gi      hi    mi  ji    li  ni  \\\n",
       "$i$                                                                            \n",
       "1    0.00  0.0000   0  0.0000  0.18  0.00000   0  0.0000  0.00   0  0.00   0   \n",
       "2    0.85  0.0000   0  0.0000  0.85  0.01027   0 -0.1403  0.85   0  1.76   0   \n",
       "3    0.20 -0.3357   0  0.1192  0.20  0.00000   0  0.0000  0.30   0  0.88   0   \n",
       "4   -0.20  0.3357   0  0.1192  0.20  0.30000   0  0.0000  0.30   0  0.88   0   \n",
       "\n",
       "       pi  \n",
       "$i$        \n",
       "1    0.25  \n",
       "2    0.25  \n",
       "3    0.25  \n",
       "4    0.25  "
      ]
     },
     "execution_count": 3,
     "metadata": {},
     "output_type": "execute_result"
    }
   ],
   "source": [
    "i = np.arange(1,5)\n",
    "\n",
    "df = pd.DataFrame(index=i,columns=['ai', 'bi', 'ci', 'di', 'ei', 'fi', 'gi',\"hi\", \"mi\", \"ji\", \"li\", \"ni\", \"pi\"], dtype='float')\n",
    "df.index.name = \"$i$\"\n",
    "df[\"ai\"]=[0,0.85,0.2,-0.2]\n",
    "df[\"bi\"]=[0,0,-0.3357,0.3357]\n",
    "df[\"ci\"]=[0,0,0,0]\n",
    "df[\"di\"]=[0,0,0.1192,0.1192]\n",
    "df[\"ei\"]=[0.18,0.85,0.2,0.2]\n",
    "df[\"fi\"]=[0,0.01027,0,0.3]\n",
    "df[\"gi\"]=[0,0,0,0]\n",
    "df[\"hi\"]=[0,-0.1403,0,0]\n",
    "df[\"mi\"]=[0,0.85,0.3,0.3]\n",
    "df[\"li\"]=[0,1.76,0.88,0.88]\n",
    "df[\"ni\"]=[0,0,0,0]\n",
    "df[\"ji\"]=[0,0,0,0]\n",
    "df[\"pi\"]=[0.25,0.25,0.25,0.25]\n",
    "\n",
    "df"
   ]
  },
  {
   "cell_type": "code",
   "execution_count": 4,
   "metadata": {},
   "outputs": [
    {
     "data": {
      "text/plain": [
       "array([[ 0.     ,  0.     ,  0.     ,  0.     ,  0.18   ,  0.     ,\n",
       "         0.     ,  0.     ,  0.     ,  0.     ,  0.     ,  0.     ,\n",
       "         0.25   ],\n",
       "       [ 0.85   ,  0.     ,  0.     ,  0.     ,  0.85   ,  0.01027,\n",
       "         0.     , -0.1403 ,  0.85   ,  0.     ,  1.76   ,  0.     ,\n",
       "         0.25   ],\n",
       "       [ 0.2    , -0.3357 ,  0.     ,  0.1192 ,  0.2    ,  0.     ,\n",
       "         0.     ,  0.     ,  0.3    ,  0.     ,  0.88   ,  0.     ,\n",
       "         0.25   ],\n",
       "       [-0.2    ,  0.3357 ,  0.     ,  0.1192 ,  0.2    ,  0.3    ,\n",
       "         0.     ,  0.     ,  0.3    ,  0.     ,  0.88   ,  0.     ,\n",
       "         0.25   ]])"
      ]
     },
     "execution_count": 4,
     "metadata": {},
     "output_type": "execute_result"
    }
   ],
   "source": [
    "Mt_Fern=df.iloc[:,:].values\n",
    "Mt_Fern"
   ]
  },
  {
   "cell_type": "markdown",
   "metadata": {},
   "source": [
    "## *1.5 Visualización de la solución del problema*"
   ]
  },
  {
   "cell_type": "markdown",
   "metadata": {},
   "source": [
    "### Algoritmo diamante - Fractal plasma"
   ]
  },
  {
   "cell_type": "code",
   "execution_count": 5,
   "metadata": {},
   "outputs": [
    {
     "data": {
      "application/vnd.jupyter.widget-view+json": {
       "model_id": "43c55bfa99e34718a192323edc6f1316",
       "version_major": 2,
       "version_minor": 0
      },
      "text/plain": [
       "interactive(children=(IntSlider(value=4, description='n', max=8, min=1), Button(description='Run Interact', st…"
      ]
     },
     "metadata": {},
     "output_type": "display_data"
    }
   ],
   "source": [
    "interact_manual(Diamond_square, n = (1, 8, 1));"
   ]
  },
  {
   "cell_type": "markdown",
   "metadata": {},
   "source": [
    "### Fractal Fern 3D"
   ]
  },
  {
   "cell_type": "code",
   "execution_count": null,
   "metadata": {},
   "outputs": [],
   "source": [
    "x,y,z=[0,0],[0,0],[0,0]\n",
    "\n",
    "# Valores de i con su probabilidad\n",
    "seq=np.array([0,1,2,3])\n",
    "prob=Mt_Fern[:,-1]\n",
    "a=Mt_Fern[:,0]\n",
    "b=Mt_Fern[:,1]\n",
    "c=Mt_Fern[:,2]\n",
    "d=Mt_Fern[:,3]\n",
    "e=Mt_Fern[:,4]\n",
    "f=Mt_Fern[:,5]\n",
    "g=Mt_Fern[:,6]\n",
    "h=Mt_Fern[:,7]\n",
    "m=Mt_Fern[:,8]\n",
    "j=Mt_Fern[:,9]\n",
    "l=Mt_Fern[:,10]\n",
    "n=Mt_Fern[:,11]\n",
    "for k in range(10000):\n",
    "    i=random.choices(seq,prob)\n",
    "    x.append(a[i]*x[-1]+b[i]*y[-1]+c[i]*z[-1]+j[i])\n",
    "    y.append(d[i]*x[-2]+e[i]*y[-1]+f[i]*z[-1]+l[i])\n",
    "    z.append(g[i]*x[-3]+h[i]*y[-2]+m[i]*z[-1]+n[i])\n",
    "# Graficamos\n",
    "\n",
    "fig = plt.figure(figsize=(20,20))\n",
    "#ax = fig.add_subplot(111, projection='3d')\n",
    "ax = plt.axes(projection='3d')\n",
    "ax.view_init(30,30)\n",
    "ax.scatter3D(x, y, z, c='b', marker='o')\n",
    "#ax.plot3D(x, y, z, c = \"b\")\n",
    "\n",
    "\n",
    "plt.show()"
   ]
  },
  {
   "cell_type": "code",
   "execution_count": null,
   "metadata": {},
   "outputs": [],
   "source": [
    "ax.view_init(60, 35)\n",
    "fig"
   ]
  },
  {
   "cell_type": "markdown",
   "metadata": {},
   "source": [
    "## *1.6 Conclusiones*"
   ]
  },
  {
   "cell_type": "code",
   "execution_count": null,
   "metadata": {},
   "outputs": [],
   "source": []
  },
  {
   "cell_type": "markdown",
   "metadata": {},
   "source": [
    "## *1.7 Referencias*"
   ]
  },
  {
   "cell_type": "markdown",
   "metadata": {},
   "source": [
    ">Argote, J. (06 de Abril de 2013). Asociación Ceat. Obtenido de Tipos de fractales: http://www.asociacionceat.org/aw/2/tipos_de_fractales.html​\n",
    "\n",
    ">Martyn, T. (2003). Tight bounding ball for affine IFS attractor. Warsaw, Poland. Recuperado 14 de noviembre de 2019."
   ]
  }
 ],
 "metadata": {
  "kernelspec": {
   "display_name": "Python 3",
   "language": "python",
   "name": "python3"
  },
  "language_info": {
   "codemirror_mode": {
    "name": "ipython",
    "version": 3
   },
   "file_extension": ".py",
   "mimetype": "text/x-python",
   "name": "python",
   "nbconvert_exporter": "python",
   "pygments_lexer": "ipython3",
   "version": "3.7.3"
  }
 },
 "nbformat": 4,
 "nbformat_minor": 2
}
